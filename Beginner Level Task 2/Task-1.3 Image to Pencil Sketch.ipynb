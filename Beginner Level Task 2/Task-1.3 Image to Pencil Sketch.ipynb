{
 "cells": [
  {
   "cell_type": "code",
   "execution_count": 3,
   "id": "3793b316",
   "metadata": {},
   "outputs": [],
   "source": [
    "# LetsGrowMore - June,2022\n",
    "# Submitted By Prajwal Kumbhar - Data Science Intern\n",
    "# Task 3 - Image to Pencil Sketch with python\n",
    "\n",
    "# Importing Necessary Libraries\n",
    "import cv2\n",
    "\n",
    "# Loading the image\n",
    "image = cv2.imread('img.jpg')\n",
    "cv2.imshow(\"Original Image\", image)\n",
    "\n",
    "# Converting the image into GrayScale\n",
    "grey = cv2.cvtColor(image, cv2.COLOR_BGR2GRAY)\n",
    "cv2.imshow(\"Grey Image\", grey)\n",
    "\n",
    "# Inverting the Grey Scale Image\n",
    "inverted_image = cv2.bitwise_not(grey)\n",
    "cv2.imshow(\"Inverted\", inverted_image)\n",
    "\n",
    "# Blurring the image\n",
    "blurred_image = cv2.GaussianBlur(inverted_image, (21, 21), sigmaX= 0, sigmaY= 0)\n",
    "\n",
    "# Function to use the divide method of cv\n",
    "def pencil_sketch(x, y):\n",
    "    return cv2.divide(x, 255 - y, scale = 256)\n",
    "\n",
    "# Converting the image into pencil sketch\n",
    "pencil_ = pencil_sketch(grey, blurred_image)\n",
    "cv2.imshow(\"Pencil Sketch\",pencil_)\n",
    "\n",
    "# Show the Results\n",
    "cv2.waitKey(0)\n",
    "cv2.destroyAllWindows()"
   ]
  },
  {
   "cell_type": "code",
   "execution_count": null,
   "id": "f5f7bab0",
   "metadata": {},
   "outputs": [],
   "source": []
  }
 ],
 "metadata": {
  "kernelspec": {
   "display_name": "Python 3 (ipykernel)",
   "language": "python",
   "name": "python3"
  },
  "language_info": {
   "codemirror_mode": {
    "name": "ipython",
    "version": 3
   },
   "file_extension": ".py",
   "mimetype": "text/x-python",
   "name": "python",
   "nbconvert_exporter": "python",
   "pygments_lexer": "ipython3",
   "version": "3.9.12"
  }
 },
 "nbformat": 4,
 "nbformat_minor": 5
}
